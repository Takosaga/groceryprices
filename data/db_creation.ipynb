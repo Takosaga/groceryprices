{
 "cells": [
  {
   "cell_type": "markdown",
   "metadata": {},
   "source": [
    "# DB Creation\n",
    "\n",
    "Creating db from the data extracted pdf"
   ]
  },
  {
   "cell_type": "code",
   "execution_count": 1,
   "metadata": {},
   "outputs": [],
   "source": [
    "from pdf2image import convert_from_path\n",
    "import os\n",
    "\n",
    "from dotenv import load_dotenv\n",
    "# loading variables from .env file\n",
    "load_dotenv() # pass a path if it's not a .env in the current working directory \n",
    " \n",
    "# accessing and printing value\n",
    "GOOGLE_API_KEY = os.getenv(\"GOOGLE_API_KEY\")"
   ]
  },
  {
   "cell_type": "code",
   "execution_count": 2,
   "metadata": {},
   "outputs": [],
   "source": [
    "maxima_pdf = \"pdfs/MAXIMA_KC13_2025_QPRZ.pdf\"\n",
    "rimi_pdf = \"pdfs/Rimi_Piedvjumi_2503-31032025.pdf\"\n",
    "top_pdf = \"pdfs/veikals top.pdf\""
   ]
  },
  {
   "cell_type": "code",
   "execution_count": 3,
   "metadata": {},
   "outputs": [],
   "source": [
    "maxima = convert_from_path(maxima_pdf)"
   ]
  },
  {
   "cell_type": "code",
   "execution_count": 4,
   "metadata": {},
   "outputs": [],
   "source": [
    "rimi = convert_from_path(rimi_pdf)"
   ]
  },
  {
   "cell_type": "code",
   "execution_count": 5,
   "metadata": {},
   "outputs": [],
   "source": [
    "top = convert_from_path(top_pdf)"
   ]
  },
  {
   "cell_type": "code",
   "execution_count": 6,
   "metadata": {},
   "outputs": [],
   "source": [
    "maxima_prompt = \"\"\"Write me in text what you extract. Your task is to extract from the brochure the name of the products and DISCOUNT prices for them. Do as follows - Trauku mazgāšanas līdzeklis FAIRY LEMON 1 iepak./2x 1350ml (2.22 euro/l) 5.99 euro. I am interested ONLY in regular discounts, do not take discounts with a customer card!\n",
    "\n",
    "change the order, write like this - Trauku mazgāšanas līdzeklis FAIRY LEMON 1 iepak./2x 1350ml 5.99€ (2.22 €/l)\n",
    "\n",
    "make it in a table. the table should be divided into columns such as name, discount price, price per kg/l/gab\n",
    "if value for column of price per kg/l/gab then return N/A\n",
    "\n",
    "Only provide table, do not say anything else\n",
    "\"\"\""
   ]
  },
  {
   "cell_type": "code",
   "execution_count": 7,
   "metadata": {},
   "outputs": [],
   "source": [
    "rimi_prompt = \"\"\"Could you please identify each product's name, its advertised price, as well as the price per kg/l/gab, and put it in a table? Omit any products from the table if they do not have a price listed. \n",
    "make it in a table. the table should be divided into columns such as name, discount price, price per kg/l/gab\n",
    "if value for column of price per kg/l/gab then return N/A\n",
    "Only provide table, do not say anything else\n",
    "\n",
    "\"\"\""
   ]
  },
  {
   "cell_type": "code",
   "execution_count": 8,
   "metadata": {},
   "outputs": [],
   "source": [
    "top_prompt = \"\"\" Could you please identify each product's name, its advertised price, as well as the price per unit, and put it in a table? Omit any products from the table if they do not have a price listed. \n",
    "\n",
    "Could you please take into consideration decimals and place them in the correct location, and also consistently make use of the euro sign in the table.\n",
    "\n",
    "If there is no price per unit listed, then please use the volume listed and advertised price and calculate the price per unit.\n",
    "\n",
    "To identify the relationship between the listed price and the product is refers to, you can find the name of the product in the image of the product. The price sticker that overlaps with the product image will be the correct advertised price.\n",
    "\n",
    "Please double check that the price per unit is listed for those items whose volume is listed as 1kg, and make sure that the advertised price is then listed under price per unit as “[advertised price] per kg”.\n",
    "make it in a table. the table should be divided into columns such as name, discount price, price per kg/l/gab\n",
    "if value for column of price per kg/l/gab then return N/A\n",
    "Only provide table, do not say anything else\n",
    "\n",
    "\"\"\""
   ]
  },
  {
   "cell_type": "code",
   "execution_count": 9,
   "metadata": {},
   "outputs": [
    {
     "name": "stdout",
     "output_type": "stream",
     "text": [
      "| Name                                                               | Discount price | Price per kg/l/gab |\n",
      "| :------------------------------------------------------------------- | :--------------- | :----------------- |\n",
      "| Veļas mazgāšanas kapsulas PERSIL 1 iepak./68 gab. + K2R 3 m.r.      | 14.99€           | 0.22€/gab          |\n",
      "| Trauku mazgāšanas līdzeklis FAIRY LEMON 1 iepak./2x 1350ml         | 5.99€            | 2.22€/l            |\n",
      "| Garie gurķi plēvē 1 gab.                                             | 0.79€            | N/A               |\n",
      "| Siers MAASDAM 1 kg, 45%                                              | 6.99€            | N/A                |\n",
      "| Tomāti mini MIX spainītī 500 g                                      | 1.99€            | 3.98€/kg           |\n",
      "| Mazie apelsīni NAVELINA 1 kg                                       | 0.99€            | N/A                |\n",
      "| Skābais krējums SMILTENE 400 g, 20%                                | 1.29€            | 3.23€/kg           |\n",
      "| Raudzēts piena produkts LAKTO 450 g                                 | 0.89€            | 1.98€/kg           |\n",
      "| Čipsi ĀDAŽU DRAUGU PAKA 180 g                                          | 2.79€            | 7.72€/kg           |\n",
      "| Gāzēts dzēriens COCA-COLA vai FANTA 2 l                             | 1.59€            | 0.80€/l            |\n"
     ]
    }
   ],
   "source": [
    "from PIL import Image\n",
    "from google import genai\n",
    "\n",
    "client = genai.Client(api_key=GOOGLE_API_KEY)\n",
    "\n",
    "response = client.models.generate_content(\n",
    "    model=\"gemini-2.0-flash\",\n",
    "    contents=[maxima[0], maxima_prompt])\n",
    "print(response.text)"
   ]
  },
  {
   "cell_type": "code",
   "execution_count": 10,
   "metadata": {},
   "outputs": [
    {
     "name": "stdout",
     "output_type": "stream",
     "text": [
      "| Name                                    | Discount Price | Price per kg/l/gab |\n",
      "|-----------------------------------------|----------------|--------------------|\n",
      "| Cūkgaļa KURZEMES GAĻSAIMNIEKS SENČU    | €6.99           | €6.99 per kg        |\n",
      "| Baltmaize DRUVA ZELTA MĀKOŅMAIZE      | €1.09           | €2.42 per kg        |\n",
      "| Piens ALMA 2.5%                         | €0.95           | €0.95 per l         |\n",
      "| Kviešu milti DOBELE EKSTRA              | €1.65           | €0.83 per kg        |\n",
      "| Konservēta barība kaķiem SHEBA           | €1.69           | €4.97 per kg        |\n",
      "| Alus PIEBALGAS                          | €1.09           | €2.18 per l         |\n",
      "| Čipsi ĀDAŽU KRAUKŠĶI SIERA BUMBAS      | €1.49           | €9.03 per kg        |\n",
      "| Sausā barība suņiem DARLING | N/A | N/A |\n"
     ]
    }
   ],
   "source": [
    "response = client.models.generate_content(\n",
    "    model=\"gemini-2.0-flash\",\n",
    "    contents=[top[0], top_prompt])\n",
    "print(response.text)"
   ]
  },
  {
   "cell_type": "code",
   "execution_count": 11,
   "metadata": {},
   "outputs": [
    {
     "name": "stdout",
     "output_type": "stream",
     "text": [
      "| Name | Discount Price | Price per kg/l/gab |\n",
      "|---|---|---|\n",
      "| Cūkgaļas un liellopu gaļas maltā masa, Forevers, 1 kg | 3.99€ | N/A |\n",
      "| Atlantijas laša fileja, no 3-4 kg laša, 1 kg | 14.99€ | N/A |\n",
      "| Olas RIMI, Nr. 1, A/LM, 10 gab. | 1.99€ | 0.21 €/gab |\n",
      "| Saldkrējuma sviests CESVAINE, 82%, 180 g | 1.99€ | 11.06 €/kg |\n",
      "| Šokolādes batoniņi SNICKERS, 10 x 50 g | 3.89€ | 7.78 €/kg |\n",
      "| Konservi kaķiem ar mājputnu gaļu SHEBA, 12 x 85 g | 4.99€ | 4.89 €/kg |\n",
      "| Gaišais alus UŽAVAS, 4,6%, 0,5 l | 1.49€ | 2.98 €/l |\n"
     ]
    }
   ],
   "source": [
    "response = client.models.generate_content(\n",
    "    model=\"gemini-2.0-flash\",\n",
    "    contents=[rimi[0], rimi_prompt])\n",
    "print(response.text)"
   ]
  },
  {
   "cell_type": "code",
   "execution_count": 20,
   "metadata": {},
   "outputs": [],
   "source": [
    "import sqlite3\n",
    "import re\n",
    "\n",
    "# Connect to SQLite database\n",
    "conn = sqlite3.connect(\"grocery.db\")\n",
    "cursor = conn.cursor()\n",
    "\n",
    "# Create tables following the provided schema\n",
    "cursor.executescript(\"\"\"\n",
    "CREATE TABLE IF NOT EXISTS Stores (\n",
    "    StoreID INTEGER PRIMARY KEY AUTOINCREMENT,\n",
    "    StoreName TEXT UNIQUE\n",
    ");\n",
    "\n",
    "CREATE TABLE IF NOT EXISTS GroceryItems (\n",
    "    ItemID INTEGER PRIMARY KEY AUTOINCREMENT,\n",
    "    ItemName TEXT UNIQUE\n",
    ");\n",
    "\n",
    "CREATE TABLE IF NOT EXISTS Prices (\n",
    "    PriceID INTEGER PRIMARY KEY AUTOINCREMENT,\n",
    "    ItemID INTEGER,\n",
    "    StoreID INTEGER,\n",
    "    Price DECIMAL(10,2),\n",
    "    PricePerQuantity DECIMAL(10,2) NULL,\n",
    "    FOREIGN KEY (ItemID) REFERENCES GroceryItems(ItemID),\n",
    "    FOREIGN KEY (StoreID) REFERENCES Stores(StoreID)\n",
    ");\n",
    "\"\"\")\n",
    "\n",
    "conn.commit()\n"
   ]
  },
  {
   "cell_type": "code",
   "execution_count": 21,
   "metadata": {},
   "outputs": [],
   "source": [
    "import sqlite3\n",
    "import re\n",
    "\n",
    "# Connect to SQLite database\n",
    "conn = sqlite3.connect(\"grocery.db\")\n",
    "cursor = conn.cursor()\n",
    "\n",
    "# Function to clean and convert price strings to decimals\n",
    "def parse_price(price_str):\n",
    "    if price_str and \"N/A\" not in price_str:\n",
    "        cleaned_price = re.sub(r\"[^\\d.]\", \"\", price_str)\n",
    "        if cleaned_price.endswith('.'):\n",
    "            cleaned_price = cleaned_price[:-1]  # Remove trailing dot\n",
    "        try:\n",
    "            return round(float(cleaned_price), 2)\n",
    "        except ValueError:\n",
    "            return None #in case there are still some errors, we return None.\n",
    "    return None\n",
    "\n",
    "# Function to parse response text into a structured list\n",
    "def parse_response_text(response_text):\n",
    "    lines = response_text.split(\"\\n\")[2:]  # Skip table headers\n",
    "    parsed_data = []\n",
    "\n",
    "    for line in lines:\n",
    "        parts = [p.strip() for p in line.split(\"|\")[1:-1]]  # Remove empty edges\n",
    "        if len(parts) == 3:\n",
    "            name, price, price_per_quantity = parts\n",
    "            parsed_data.append((name.lower(), price, price_per_quantity))\n",
    "    \n",
    "    return parsed_data\n",
    "\n",
    "# Function to insert data dynamically into the database\n",
    "def insert_data(store_name, response_text):\n",
    "    # Parse the response text into structured data\n",
    "    products = parse_response_text(response_text)\n",
    "\n",
    "    # Insert store if not exists\n",
    "    cursor.execute(\"INSERT OR IGNORE INTO Stores (StoreName) VALUES (?)\", (store_name,))\n",
    "    conn.commit()\n",
    "    \n",
    "    # Get StoreID\n",
    "    cursor.execute(\"SELECT StoreID FROM Stores WHERE StoreName = ?\", (store_name,))\n",
    "    store_id = cursor.fetchone()[0]\n",
    "\n",
    "    for product in products:\n",
    "        item_name, price, price_per_quantity = product\n",
    "\n",
    "        # Convert prices to decimals\n",
    "        price = parse_price(price)\n",
    "        price_per_quantity = parse_price(price_per_quantity)\n",
    "\n",
    "        # Insert product if not exists\n",
    "        cursor.execute(\"INSERT OR IGNORE INTO GroceryItems (ItemName) VALUES (?)\", (item_name,))\n",
    "        conn.commit()\n",
    "\n",
    "        # Get ItemID\n",
    "        cursor.execute(\"SELECT ItemID FROM GroceryItems WHERE ItemName = ?\", (item_name,))\n",
    "        item_id = cursor.fetchone()[0]\n",
    "\n",
    "        # Insert price record\n",
    "        cursor.execute(\"\"\"\n",
    "            INSERT INTO Prices (ItemID, StoreID, Price, PricePerQuantity)\n",
    "            VALUES (?, ?, ?, ?)\n",
    "        \"\"\", (item_id, store_id, price, price_per_quantity))\n",
    "\n",
    "    conn.commit()"
   ]
  },
  {
   "cell_type": "code",
   "execution_count": 22,
   "metadata": {},
   "outputs": [],
   "source": [
    "def calling_model_and_storing(data, store_name, prompt):\n",
    "    for i in range(1):\n",
    "        response = client.models.generate_content(\n",
    "            model=\"gemini-2.0-flash\",\n",
    "            contents=[data[i], prompt])\n",
    "        insert_data(store_name, response.text)"
   ]
  },
  {
   "cell_type": "code",
   "execution_count": 23,
   "metadata": {},
   "outputs": [],
   "source": [
    "calling_model_and_storing(maxima, 'maxima', maxima_prompt)"
   ]
  },
  {
   "cell_type": "code",
   "execution_count": 24,
   "metadata": {},
   "outputs": [],
   "source": [
    "calling_model_and_storing(rimi, 'rimi', rimi_prompt)\n"
   ]
  },
  {
   "cell_type": "code",
   "execution_count": 25,
   "metadata": {},
   "outputs": [],
   "source": [
    "calling_model_and_storing(top, 'top', top_prompt)"
   ]
  }
 ],
 "metadata": {
  "kernelspec": {
   "display_name": "groceries",
   "language": "python",
   "name": "python3"
  },
  "language_info": {
   "codemirror_mode": {
    "name": "ipython",
    "version": 3
   },
   "file_extension": ".py",
   "mimetype": "text/x-python",
   "name": "python",
   "nbconvert_exporter": "python",
   "pygments_lexer": "ipython3",
   "version": "3.11.11"
  }
 },
 "nbformat": 4,
 "nbformat_minor": 2
}
